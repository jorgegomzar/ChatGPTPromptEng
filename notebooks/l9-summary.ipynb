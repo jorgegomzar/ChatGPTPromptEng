{
 "cells": [
  {
   "cell_type": "markdown",
   "id": "c0d46af0",
   "metadata": {},
   "source": [
    "# Summary\n",
    "## Principles\n",
    "- Write clear and specific instructions\n",
    "- Give the model time to think\n",
    "## Iterative prompt development\n",
    "## Capabilities: Summarizing, Inferring, Transforming, Expanding\n",
    "## Building a chatbot"
   ]
  }
 ],
 "metadata": {
  "kernelspec": {
   "display_name": "Python 3 (ipykernel)",
   "language": "python",
   "name": "python3"
  },
  "language_info": {
   "codemirror_mode": {
    "name": "ipython",
    "version": 3
   },
   "file_extension": ".py",
   "mimetype": "text/x-python",
   "name": "python",
   "nbconvert_exporter": "python",
   "pygments_lexer": "ipython3",
   "version": "3.10.10"
  }
 },
 "nbformat": 4,
 "nbformat_minor": 5
}
